{
  "nbformat": 4,
  "nbformat_minor": 0,
  "metadata": {
    "colab": {
      "provenance": []
    },
    "kernelspec": {
      "name": "python3",
      "display_name": "Python 3"
    },
    "language_info": {
      "name": "python"
    },
    "widgets": {
      "application/vnd.jupyter.widget-state+json": {
        "d0a1253c0790410ebd78ea988b4d462f": {
          "model_module": "@jupyter-widgets/controls",
          "model_name": "HBoxModel",
          "model_module_version": "1.5.0",
          "state": {
            "_dom_classes": [],
            "_model_module": "@jupyter-widgets/controls",
            "_model_module_version": "1.5.0",
            "_model_name": "HBoxModel",
            "_view_count": null,
            "_view_module": "@jupyter-widgets/controls",
            "_view_module_version": "1.5.0",
            "_view_name": "HBoxView",
            "box_style": "",
            "children": [
              "IPY_MODEL_165aaf7febb04f909a3f5aa533a27192",
              "IPY_MODEL_6c4e832b1a0043eb8c0812f14db419c8",
              "IPY_MODEL_909e70f188344a0ea9a06676c7c97bcd"
            ],
            "layout": "IPY_MODEL_da4d42fde522422eb1fe1e50ff60331d"
          }
        },
        "165aaf7febb04f909a3f5aa533a27192": {
          "model_module": "@jupyter-widgets/controls",
          "model_name": "HTMLModel",
          "model_module_version": "1.5.0",
          "state": {
            "_dom_classes": [],
            "_model_module": "@jupyter-widgets/controls",
            "_model_module_version": "1.5.0",
            "_model_name": "HTMLModel",
            "_view_count": null,
            "_view_module": "@jupyter-widgets/controls",
            "_view_module_version": "1.5.0",
            "_view_name": "HTMLView",
            "description": "",
            "description_tooltip": null,
            "layout": "IPY_MODEL_9268bf4e360e45f08d0b1d941326c899",
            "placeholder": "​",
            "style": "IPY_MODEL_913c5397273b4d329308c694f44dd145",
            "value": "Batches: 100%"
          }
        },
        "6c4e832b1a0043eb8c0812f14db419c8": {
          "model_module": "@jupyter-widgets/controls",
          "model_name": "FloatProgressModel",
          "model_module_version": "1.5.0",
          "state": {
            "_dom_classes": [],
            "_model_module": "@jupyter-widgets/controls",
            "_model_module_version": "1.5.0",
            "_model_name": "FloatProgressModel",
            "_view_count": null,
            "_view_module": "@jupyter-widgets/controls",
            "_view_module_version": "1.5.0",
            "_view_name": "ProgressView",
            "bar_style": "success",
            "description": "",
            "description_tooltip": null,
            "layout": "IPY_MODEL_534cb68d856a4822862ac0f73ffd71be",
            "max": 59,
            "min": 0,
            "orientation": "horizontal",
            "style": "IPY_MODEL_e7995a190b62482fbf9398a49345aef3",
            "value": 59
          }
        },
        "909e70f188344a0ea9a06676c7c97bcd": {
          "model_module": "@jupyter-widgets/controls",
          "model_name": "HTMLModel",
          "model_module_version": "1.5.0",
          "state": {
            "_dom_classes": [],
            "_model_module": "@jupyter-widgets/controls",
            "_model_module_version": "1.5.0",
            "_model_name": "HTMLModel",
            "_view_count": null,
            "_view_module": "@jupyter-widgets/controls",
            "_view_module_version": "1.5.0",
            "_view_name": "HTMLView",
            "description": "",
            "description_tooltip": null,
            "layout": "IPY_MODEL_2d79c743c7e640cba3078ec28f2dda9b",
            "placeholder": "​",
            "style": "IPY_MODEL_9f30fa6e3f7e45d49c99af441a004106",
            "value": " 59/59 [01:48&lt;00:00,  1.27s/it]"
          }
        },
        "da4d42fde522422eb1fe1e50ff60331d": {
          "model_module": "@jupyter-widgets/base",
          "model_name": "LayoutModel",
          "model_module_version": "1.2.0",
          "state": {
            "_model_module": "@jupyter-widgets/base",
            "_model_module_version": "1.2.0",
            "_model_name": "LayoutModel",
            "_view_count": null,
            "_view_module": "@jupyter-widgets/base",
            "_view_module_version": "1.2.0",
            "_view_name": "LayoutView",
            "align_content": null,
            "align_items": null,
            "align_self": null,
            "border": null,
            "bottom": null,
            "display": null,
            "flex": null,
            "flex_flow": null,
            "grid_area": null,
            "grid_auto_columns": null,
            "grid_auto_flow": null,
            "grid_auto_rows": null,
            "grid_column": null,
            "grid_gap": null,
            "grid_row": null,
            "grid_template_areas": null,
            "grid_template_columns": null,
            "grid_template_rows": null,
            "height": null,
            "justify_content": null,
            "justify_items": null,
            "left": null,
            "margin": null,
            "max_height": null,
            "max_width": null,
            "min_height": null,
            "min_width": null,
            "object_fit": null,
            "object_position": null,
            "order": null,
            "overflow": null,
            "overflow_x": null,
            "overflow_y": null,
            "padding": null,
            "right": null,
            "top": null,
            "visibility": null,
            "width": null
          }
        },
        "9268bf4e360e45f08d0b1d941326c899": {
          "model_module": "@jupyter-widgets/base",
          "model_name": "LayoutModel",
          "model_module_version": "1.2.0",
          "state": {
            "_model_module": "@jupyter-widgets/base",
            "_model_module_version": "1.2.0",
            "_model_name": "LayoutModel",
            "_view_count": null,
            "_view_module": "@jupyter-widgets/base",
            "_view_module_version": "1.2.0",
            "_view_name": "LayoutView",
            "align_content": null,
            "align_items": null,
            "align_self": null,
            "border": null,
            "bottom": null,
            "display": null,
            "flex": null,
            "flex_flow": null,
            "grid_area": null,
            "grid_auto_columns": null,
            "grid_auto_flow": null,
            "grid_auto_rows": null,
            "grid_column": null,
            "grid_gap": null,
            "grid_row": null,
            "grid_template_areas": null,
            "grid_template_columns": null,
            "grid_template_rows": null,
            "height": null,
            "justify_content": null,
            "justify_items": null,
            "left": null,
            "margin": null,
            "max_height": null,
            "max_width": null,
            "min_height": null,
            "min_width": null,
            "object_fit": null,
            "object_position": null,
            "order": null,
            "overflow": null,
            "overflow_x": null,
            "overflow_y": null,
            "padding": null,
            "right": null,
            "top": null,
            "visibility": null,
            "width": null
          }
        },
        "913c5397273b4d329308c694f44dd145": {
          "model_module": "@jupyter-widgets/controls",
          "model_name": "DescriptionStyleModel",
          "model_module_version": "1.5.0",
          "state": {
            "_model_module": "@jupyter-widgets/controls",
            "_model_module_version": "1.5.0",
            "_model_name": "DescriptionStyleModel",
            "_view_count": null,
            "_view_module": "@jupyter-widgets/base",
            "_view_module_version": "1.2.0",
            "_view_name": "StyleView",
            "description_width": ""
          }
        },
        "534cb68d856a4822862ac0f73ffd71be": {
          "model_module": "@jupyter-widgets/base",
          "model_name": "LayoutModel",
          "model_module_version": "1.2.0",
          "state": {
            "_model_module": "@jupyter-widgets/base",
            "_model_module_version": "1.2.0",
            "_model_name": "LayoutModel",
            "_view_count": null,
            "_view_module": "@jupyter-widgets/base",
            "_view_module_version": "1.2.0",
            "_view_name": "LayoutView",
            "align_content": null,
            "align_items": null,
            "align_self": null,
            "border": null,
            "bottom": null,
            "display": null,
            "flex": null,
            "flex_flow": null,
            "grid_area": null,
            "grid_auto_columns": null,
            "grid_auto_flow": null,
            "grid_auto_rows": null,
            "grid_column": null,
            "grid_gap": null,
            "grid_row": null,
            "grid_template_areas": null,
            "grid_template_columns": null,
            "grid_template_rows": null,
            "height": null,
            "justify_content": null,
            "justify_items": null,
            "left": null,
            "margin": null,
            "max_height": null,
            "max_width": null,
            "min_height": null,
            "min_width": null,
            "object_fit": null,
            "object_position": null,
            "order": null,
            "overflow": null,
            "overflow_x": null,
            "overflow_y": null,
            "padding": null,
            "right": null,
            "top": null,
            "visibility": null,
            "width": null
          }
        },
        "e7995a190b62482fbf9398a49345aef3": {
          "model_module": "@jupyter-widgets/controls",
          "model_name": "ProgressStyleModel",
          "model_module_version": "1.5.0",
          "state": {
            "_model_module": "@jupyter-widgets/controls",
            "_model_module_version": "1.5.0",
            "_model_name": "ProgressStyleModel",
            "_view_count": null,
            "_view_module": "@jupyter-widgets/base",
            "_view_module_version": "1.2.0",
            "_view_name": "StyleView",
            "bar_color": null,
            "description_width": ""
          }
        },
        "2d79c743c7e640cba3078ec28f2dda9b": {
          "model_module": "@jupyter-widgets/base",
          "model_name": "LayoutModel",
          "model_module_version": "1.2.0",
          "state": {
            "_model_module": "@jupyter-widgets/base",
            "_model_module_version": "1.2.0",
            "_model_name": "LayoutModel",
            "_view_count": null,
            "_view_module": "@jupyter-widgets/base",
            "_view_module_version": "1.2.0",
            "_view_name": "LayoutView",
            "align_content": null,
            "align_items": null,
            "align_self": null,
            "border": null,
            "bottom": null,
            "display": null,
            "flex": null,
            "flex_flow": null,
            "grid_area": null,
            "grid_auto_columns": null,
            "grid_auto_flow": null,
            "grid_auto_rows": null,
            "grid_column": null,
            "grid_gap": null,
            "grid_row": null,
            "grid_template_areas": null,
            "grid_template_columns": null,
            "grid_template_rows": null,
            "height": null,
            "justify_content": null,
            "justify_items": null,
            "left": null,
            "margin": null,
            "max_height": null,
            "max_width": null,
            "min_height": null,
            "min_width": null,
            "object_fit": null,
            "object_position": null,
            "order": null,
            "overflow": null,
            "overflow_x": null,
            "overflow_y": null,
            "padding": null,
            "right": null,
            "top": null,
            "visibility": null,
            "width": null
          }
        },
        "9f30fa6e3f7e45d49c99af441a004106": {
          "model_module": "@jupyter-widgets/controls",
          "model_name": "DescriptionStyleModel",
          "model_module_version": "1.5.0",
          "state": {
            "_model_module": "@jupyter-widgets/controls",
            "_model_module_version": "1.5.0",
            "_model_name": "DescriptionStyleModel",
            "_view_count": null,
            "_view_module": "@jupyter-widgets/base",
            "_view_module_version": "1.2.0",
            "_view_name": "StyleView",
            "description_width": ""
          }
        }
      }
    }
  },
  "cells": [
    {
      "cell_type": "markdown",
      "source": [
        "# Tawfiq Moharaq\n",
        "https://www.linkedin.com/in/tawfiq-moharaq-1a37ba2a3/recent-activity/all/"
      ],
      "metadata": {
        "id": "zVEDc4qvHoz0"
      }
    },
    {
      "cell_type": "code",
      "source": [
        "import os\n",
        "import random\n",
        "import warnings\n",
        "from typing import List, Dict, Tuple\n",
        "\n",
        "import numpy as np\n",
        "import pandas as pd\n",
        "from sklearn.model_selection import train_test_split\n",
        "from sklearn.metrics import (\n",
        "    precision_score, recall_score, f1_score, roc_auc_score,\n",
        "    average_precision_score, confusion_matrix\n",
        ")\n",
        "from sklearn.utils import shuffle\n",
        "from sklearn.linear_model import LogisticRegression\n",
        "from sklearn.ensemble import RandomForestClassifier\n",
        "from imblearn.over_sampling import SMOTE\n",
        "\n",
        "from sentence_transformers import SentenceTransformer\n",
        "from xgboost import XGBClassifier\n",
        "\n",
        "import matplotlib.pyplot as plt\n",
        "warnings.filterwarnings(\"ignore\", category=UserWarning)\n"
      ],
      "metadata": {
        "id": "9zR9joxAyjY3"
      },
      "execution_count": 9,
      "outputs": []
    },
    {
      "cell_type": "code",
      "source": [
        "#  Reproducibility\n",
        "SEED = 42\n",
        "random.seed(SEED)\n",
        "np.random.seed(SEED)\n"
      ],
      "metadata": {
        "id": "ot_y0py2ykok"
      },
      "execution_count": 10,
      "outputs": []
    },
    {
      "cell_type": "code",
      "source": [
        "# Domain vocabulary\n",
        "\n",
        "majors_keywords: Dict[str, List[str]] = {\n",
        "    'Computer Science': [\n",
        "        'python','computer','programming','software','algorithms','ai',\n",
        "        'artificial intelligence','cloud computing','cybersecurity','machine learning'\n",
        "    ],\n",
        "    'Data Science': [\n",
        "        'data','machine learning','statistics','deep learning','analysis',\n",
        "        'big data','data mining','blockchain','data visualization'\n",
        "    ],\n",
        "    'Business': [\n",
        "        'marketing','business','finance','management','entrepreneurship',\n",
        "        'sales','leadership','strategy','digital marketing','e-commerce'\n",
        "    ],\n",
        "    'Health': [\n",
        "        'health','medical','biology','care','nursing','biotechnology',\n",
        "        'healthcare','public health','medicine','telemedicine','clinical research'\n",
        "    ],\n",
        "    'Engineering': [\n",
        "        'engineering','mechanics','design','electronics','robotics',\n",
        "        'civil engineering','electrical engineering','mechanical engineering','renewable energy'\n",
        "    ]\n",
        "}\n",
        "MAJORS = list(majors_keywords.keys())\n",
        "\n",
        "EVENT_TEMPLATES = [\n",
        "    \"Intro to {}\", \"{} Workshop\", \"{} Bootcamp\", \"{} Seminar\",\n",
        "    \"{} for Beginners\", \"Advanced {}\", \"{} Masterclass\", \"{} Applications\",\n",
        "    \"{} in Practice\", \"Trends in {}\", \"Practical {}\", \"{} for Startups\",\n",
        "    \"{} & Case Studies\", \"{} Fundamentals\", \"{} Conference\", \"{} Summit\", \"{} Hackathon\",\n",
        "]\n"
      ],
      "metadata": {
        "id": "ZcNkBZ8_yrJA"
      },
      "execution_count": 11,
      "outputs": []
    },
    {
      "cell_type": "code",
      "source": [
        "# Synthetic but more realistic data\n",
        "\n",
        "def generate_students(num_students: int = 600) -> pd.DataFrame:\n",
        "    \"\"\"Create synthetic students with major + 2-3 interests; sometimes add off-major noise.\"\"\"\n",
        "    rows = []\n",
        "    for i in range(1, num_students + 1):\n",
        "        major = random.choice(MAJORS)\n",
        "        base_pool = majors_keywords[major]\n",
        "        k = random.choice([2, 3])\n",
        "        interests = random.sample(base_pool, k=k)\n",
        "        if random.random() < 0.25:  # 25% chance add one off-major interest\n",
        "            other_major = random.choice([m for m in MAJORS if m != major])\n",
        "            interests.append(random.choice(majors_keywords[other_major]))\n",
        "        rows.append({\"StudentID\": f\"S{i}\", \"Major\": major, \"Interests\": interests})\n",
        "    return pd.DataFrame(rows)\n",
        "\n",
        "def generate_events(num_events: int = 180) -> pd.DataFrame:\n",
        "    \"\"\"Create events with paraphrased titles; sometimes mix two keywords.\"\"\"\n",
        "    rows = []\n",
        "    for i in range(num_events):\n",
        "        seed_major = random.choice(MAJORS)\n",
        "        seed_kw = random.choice(majors_keywords[seed_major])\n",
        "        template = random.choice(EVENT_TEMPLATES)\n",
        "        if random.random() < 0.30:\n",
        "            other_major = random.choice(MAJORS)\n",
        "            other_kw = random.choice(majors_keywords[other_major])\n",
        "            title = template.format(f\"{seed_kw.title()} & {other_kw.title()}\")\n",
        "        else:\n",
        "            title = template.format(seed_kw.title())\n",
        "        month = random.randint(5, 10)\n",
        "        day = random.randint(1, 28)\n",
        "        date = f\"2025-{month:02d}-{day:02d}\"\n",
        "        rows.append({\"EventID\": f\"E{i}\", \"EventTitle\": title, \"EventDate\": date})\n",
        "    return pd.DataFrame(rows)\n",
        "\n",
        "students = generate_students(600)\n",
        "events = generate_events(180)\n"
      ],
      "metadata": {
        "id": "j88KaVCMyyma"
      },
      "execution_count": 12,
      "outputs": []
    },
    {
      "cell_type": "code",
      "source": [
        "# Labeling via semantic similarity + small noise\n",
        "# -------------------------------\n",
        "embedder = SentenceTransformer(\"all-MiniLM-L6-v2\")\n",
        "\n",
        "def label_pair(student_interests: List[str], event_title: str,\n",
        "               pos_thresh: float = 0.42, noise_flip_prob: float = 0.03) -> int:\n",
        "    \"\"\"\n",
        "    Label (student, event) using cosine similarity between embeddings.\n",
        "    If sim >= pos_thresh -> 1 else 0. Add small noise to simulate imperfect labels.\n",
        "    \"\"\"\n",
        "    interests_text = \" / \".join(student_interests)\n",
        "    v1 = embedder.encode(interests_text, normalize_embeddings=True)\n",
        "    v2 = embedder.encode(event_title, normalize_embeddings=True)\n",
        "    sim = float(np.dot(v1, v2))  # cosine (because normalized)\n",
        "    y = 1 if sim >= pos_thresh else 0\n",
        "    if random.random() < noise_flip_prob:\n",
        "        y = 1 - y\n",
        "    return y\n",
        "\n",
        "def build_dataset(students_df: pd.DataFrame, events_df: pd.DataFrame) -> pd.DataFrame:\n",
        "    \"\"\"Sample ~25 events per student to keep size reasonable.\"\"\"\n",
        "    rows = []\n",
        "    for _, s in students_df.iterrows():\n",
        "        sampled_events = events_df.sample(n=min(25, len(events_df)), random_state=SEED)\n",
        "        for _, e in sampled_events.iterrows():\n",
        "            y = label_pair(s[\"Interests\"], e[\"EventTitle\"])\n",
        "            rows.append({\n",
        "                \"StudentID\": s[\"StudentID\"],\n",
        "                \"Major\": s[\"Major\"],\n",
        "                \"StudentInterests\": \" \".join(s[\"Interests\"]),\n",
        "                \"EventID\": e[\"EventID\"],\n",
        "                \"EventTitle\": e[\"EventTitle\"],\n",
        "                \"EventDate\": e[\"EventDate\"],\n",
        "                \"Label\": y\n",
        "            })\n",
        "    return shuffle(pd.DataFrame(rows), random_state=SEED).reset_index(drop=True)\n",
        "\n",
        "dataset = build_dataset(students, events)\n",
        "print(\" Dataset shape:\", dataset.shape)\n",
        "print(\" Positive rate:\", round(dataset['Label'].mean(), 3))\n"
      ],
      "metadata": {
        "colab": {
          "base_uri": "https://localhost:8080/"
        },
        "id": "seSGytqSzKEl",
        "outputId": "e2e75f6e-b118-4243-e902-46490ab95ad9"
      },
      "execution_count": 13,
      "outputs": [
        {
          "output_type": "stream",
          "name": "stdout",
          "text": [
            " Dataset shape: (15000, 7)\n",
            " Positive rate: 0.116\n"
          ]
        }
      ]
    },
    {
      "cell_type": "code",
      "source": [
        "#  Embeddings as features\n",
        "\n",
        "combined_texts = (dataset[\"StudentInterests\"] + \" [SEP] \" + dataset[\"EventTitle\"]).tolist()\n",
        "X = embedder.encode(combined_texts, normalize_embeddings=False, batch_size=256, show_progress_bar=True)\n",
        "y = dataset[\"Label\"].values\n"
      ],
      "metadata": {
        "colab": {
          "base_uri": "https://localhost:8080/",
          "height": 49,
          "referenced_widgets": [
            "d0a1253c0790410ebd78ea988b4d462f",
            "165aaf7febb04f909a3f5aa533a27192",
            "6c4e832b1a0043eb8c0812f14db419c8",
            "909e70f188344a0ea9a06676c7c97bcd",
            "da4d42fde522422eb1fe1e50ff60331d",
            "9268bf4e360e45f08d0b1d941326c899",
            "913c5397273b4d329308c694f44dd145",
            "534cb68d856a4822862ac0f73ffd71be",
            "e7995a190b62482fbf9398a49345aef3",
            "2d79c743c7e640cba3078ec28f2dda9b",
            "9f30fa6e3f7e45d49c99af441a004106"
          ]
        },
        "id": "PIRexrZJzRBg",
        "outputId": "4fbcdf47-e565-4b80-e910-980f26e8dbe5"
      },
      "execution_count": 14,
      "outputs": [
        {
          "output_type": "display_data",
          "data": {
            "text/plain": [
              "Batches:   0%|          | 0/59 [00:00<?, ?it/s]"
            ],
            "application/vnd.jupyter.widget-view+json": {
              "version_major": 2,
              "version_minor": 0,
              "model_id": "d0a1253c0790410ebd78ea988b4d462f"
            }
          },
          "metadata": {}
        }
      ]
    },
    {
      "cell_type": "code",
      "source": [
        "#  Split: train / valid / test  (avoid leakage)\n",
        "# -------------------------------\n",
        "X_train_full, X_test, y_train_full, y_test = train_test_split(\n",
        "    X, y, test_size=0.2, random_state=SEED, stratify=y\n",
        ")\n",
        "# validation from original train (before SMOTE)\n",
        "X_tr, X_val, y_tr, y_val = train_test_split(\n",
        "    X_train_full, y_train_full, test_size=0.2, random_state=SEED, stratify=y_train_full\n",
        ")\n",
        "\n",
        "# Balance TRAIN ONLY with SMOTE\n",
        "smote = SMOTE(random_state=SEED)\n",
        "X_tr_bal, y_tr_bal = smote.fit_resample(X_tr, y_tr)\n",
        "print(\" Train (pre-SMOTE):\", X_tr.shape[0], \"-> after SMOTE:\", X_tr_bal.shape[0])\n",
        "print(\" Valid:\", X_val.shape[0], \" | Test:\", X_test.shape[0])\n"
      ],
      "metadata": {
        "colab": {
          "base_uri": "https://localhost:8080/"
        },
        "id": "NDFGZ9yUzV61",
        "outputId": "0d90cc05-bb71-47e9-b6da-1fdeeaeb17d2"
      },
      "execution_count": 15,
      "outputs": [
        {
          "output_type": "stream",
          "name": "stdout",
          "text": [
            " Train (pre-SMOTE): 9600 -> after SMOTE: 16964\n",
            " Valid: 2400  | Test: 3000\n"
          ]
        }
      ]
    },
    {
      "cell_type": "code",
      "source": [
        "#  Train three models\n",
        "\n",
        "models = {\n",
        "    \"XGBoost\": XGBClassifier(\n",
        "        n_estimators=350, max_depth=6, learning_rate=0.08,\n",
        "        subsample=0.9, colsample_bytree=0.9, reg_lambda=1.0,\n",
        "        objective=\"binary:logistic\", eval_metric=\"logloss\",\n",
        "        random_state=SEED, n_jobs=-1\n",
        "    ),\n",
        "    \"LogisticRegression\": LogisticRegression(\n",
        "        max_iter=1000, class_weight=\"balanced\", n_jobs=None\n",
        "    ),\n",
        "    \"RandomForest\": RandomForestClassifier(\n",
        "        n_estimators=400, max_depth=None, min_samples_split=2,\n",
        "        class_weight=\"balanced\", random_state=SEED, n_jobs=-1\n",
        "    )\n",
        "}\n",
        "\n",
        "def find_best_threshold(y_true: np.ndarray, proba: np.ndarray) -> Tuple[float, float]:\n",
        "    \"\"\"Search threshold in [0,1] that maximizes F1 on validation.\"\"\"\n",
        "    best_t, best_f1 = 0.5, -1.0\n",
        "    for t in np.linspace(0.05, 0.95, 19):\n",
        "        y_hat = (proba >= t).astype(int)\n",
        "        f1 = f1_score(y_true, y_hat, zero_division=0)\n",
        "        if f1 > best_f1:\n",
        "            best_f1, best_t = f1, t\n",
        "    return best_t, best_f1\n",
        "\n",
        "results = []\n",
        "fitted = {}\n",
        "thresholds = {}\n",
        "\n",
        "for name, clf in models.items():\n",
        "    clf.fit(X_tr_bal, y_tr_bal)\n",
        "    fitted[name] = clf\n",
        "\n",
        "    # choose threshold on VALID\n",
        "    val_proba = clf.predict_proba(X_val)[:, 1]\n",
        "    t_opt, f1_val = find_best_threshold(y_val, val_proba)\n",
        "    thresholds[name] = t_opt\n",
        "\n",
        "    # evaluate on TEST using t_opt\n",
        "    test_proba = clf.predict_proba(X_test)[:, 1]\n",
        "    test_pred = (test_proba >= t_opt).astype(int)\n",
        "\n",
        "    precision = precision_score(y_test, test_pred, zero_division=0)\n",
        "    recall = recall_score(y_test, test_pred, zero_division=0)\n",
        "    f1 = f1_score(y_test, test_pred, zero_division=0)\n",
        "    roc = roc_auc_score(y_test, test_proba)\n",
        "    pr_auc = average_precision_score(y_test, test_proba)\n",
        "    tn, fp, fn, tp = confusion_matrix(y_test, test_pred).ravel()\n",
        "\n",
        "    results.append({\n",
        "        \"Model\": name, \"Threshold\": round(t_opt, 3),\n",
        "        \"Precision\": round(precision, 3), \"Recall\": round(recall, 3),\n",
        "        \"F1\": round(f1, 3), \"ROC_AUC\": round(roc, 3),\n",
        "        \"PR_AUC\": round(pr_auc, 3), \"TP\": tp, \"FP\": fp, \"FN\": fn, \"TN\": tn\n",
        "    })\n",
        "\n",
        "results_df = pd.DataFrame(results).sort_values(\"PR_AUC\", ascending=False).reset_index(drop=True)\n",
        "print(\"\\n Model Comparison (sorted by PR_AUC):\")\n",
        "print(results_df)\n",
        "\n",
        "best_row = results_df.iloc[0]\n",
        "best_name = best_row[\"Model\"]\n",
        "best_model = fitted[best_name]\n",
        "best_thr = float(thresholds[best_name])\n",
        "\n",
        "print(f\"\\n Selected BEST model: {best_name} | Threshold={best_thr:.3f}\")\n",
        "\n"
      ],
      "metadata": {
        "colab": {
          "base_uri": "https://localhost:8080/"
        },
        "id": "I2wozn9XyUgS",
        "outputId": "6975e8f0-adeb-4487-e841-7a4dab395be2"
      },
      "execution_count": 16,
      "outputs": [
        {
          "output_type": "stream",
          "name": "stdout",
          "text": [
            "\n",
            " Model Comparison (sorted by PR_AUC):\n",
            "                Model  Threshold  Precision  Recall     F1  ROC_AUC  PR_AUC  \\\n",
            "0             XGBoost        0.5      0.645   0.562  0.600    0.842   0.639   \n",
            "1        RandomForest        0.4      0.571   0.607  0.589    0.838   0.606   \n",
            "2  LogisticRegression        0.7      0.579   0.493  0.533    0.826   0.565   \n",
            "\n",
            "    TP   FP   FN    TN  \n",
            "0  196  108  153  2543  \n",
            "1  212  159  137  2492  \n",
            "2  172  125  177  2526  \n",
            "\n",
            " Selected BEST model: XGBoost | Threshold=0.500\n"
          ]
        }
      ]
    },
    {
      "cell_type": "code",
      "source": [
        "# quick bar plot of three models (F1 & PR_AUC)\n",
        "\n",
        "plt.figure(figsize=(8, 5))\n",
        "\n",
        "# Custom colors (harmonious palette)\n",
        "f1_color = \"#1f77b4\"      # Deep blue\n",
        "pr_color = \"#17becf\"      # Soft turquoise\n",
        "\n",
        "# Plot the bars side-by-side with small offset for clarity\n",
        "x = np.arange(len(results_df[\"Model\"]))\n",
        "width = 0.35\n",
        "\n",
        "plt.bar(x - width/2, results_df[\"F1\"], width, label=\"F1 Score\", color=f1_color)\n",
        "plt.bar(x + width/2, results_df[\"PR_AUC\"], width, label=\"PR-AUC\", color=pr_color)\n",
        "\n",
        "# Labels and title\n",
        "plt.xticks(x, results_df[\"Model\"])\n",
        "plt.ylim(0, 1.05)\n",
        "plt.title(\"Model Comparison (F1 vs PR-AUC)\", fontsize=13, fontweight=\"bold\")\n",
        "plt.ylabel(\"Score\", fontsize=11)\n",
        "plt.legend()\n",
        "plt.grid(axis=\"y\", linestyle=\"--\", alpha=0.4)\n",
        "\n",
        "# Annotate bar values on top\n",
        "for i, (f1, pr) in enumerate(zip(results_df[\"F1\"], results_df[\"PR_AUC\"])):\n",
        "    plt.text(i - 0.18, f1 + 0.02, f\"{f1:.2f}\", color=\"black\", ha=\"center\", fontsize=9)\n",
        "    plt.text(i + 0.18, pr + 0.02, f\"{pr:.2f}\", color=\"black\", ha=\"center\", fontsize=9)\n",
        "\n",
        "plt.tight_layout()\n",
        "plt.show()\n"
      ],
      "metadata": {
        "colab": {
          "base_uri": "https://localhost:8080/",
          "height": 507
        },
        "id": "ONkq1p0-znoG",
        "outputId": "a54d2bc4-fda2-433f-fd08-9a0fb0a2d16b"
      },
      "execution_count": 17,
      "outputs": [
        {
          "output_type": "display_data",
          "data": {
            "text/plain": [
              "<Figure size 800x500 with 1 Axes>"
            ],
            "image/png": "[encoded data removed]"
          },
          "metadata": {}
        }
      ]
    },
    {
      "cell_type": "markdown",
      "source": [
        "**Overall Conclusion**\n",
        "\n",
        "🔹 XGBoost is the best model — it provides the most balanced performance between precision and recall.\n",
        "\n",
        "🔹 Random Forest performs decently but tends to generate more false positives (less precise).\n",
        "\n",
        "🔹 Logistic Regression works fine as a simple baseline but struggles with more complex text interactions."
      ],
      "metadata": {
        "id": "dzEVPt2b8DIy"
      }
    },
    {
      "cell_type": "code",
      "source": [
        "# Smart notifier using BEST model\n",
        "\n",
        "def notify_students_about_event(\n",
        "    event_title: str,\n",
        "    event_date: str,\n",
        "    students_df: pd.DataFrame,\n",
        "    model,\n",
        "    threshold: float,\n",
        "    top_k: int = 200,\n",
        "    return_top_k_if_empty: bool = True\n",
        ") -> pd.DataFrame:\n",
        "    \"\"\"\n",
        "    Rank all students by model probability for a given event.\n",
        "    Returns those >= threshold; if none, optionally return top_k highest.\n",
        "    Always returns a DataFrame with fixed columns.\n",
        "    \"\"\"\n",
        "    if students_df.empty:\n",
        "        return pd.DataFrame(columns=[\n",
        "            \"StudentID\",\"Major\",\"Interests\",\"EventTitle\",\"EventDate\",\"Probability\",\"Notification\"\n",
        "        ])\n",
        "\n",
        "    # Batch-encode features for speed\n",
        "    features_texts = (students_df[\"Interests\"].apply(lambda xs: \" \".join(xs)) +\n",
        "                      \" [SEP] \" + event_title)\n",
        "    X_feats = embedder.encode(features_texts.tolist(), normalize_embeddings=False, batch_size=256)\n",
        "    probs = model.predict_proba(X_feats)[:, 1]\n",
        "\n",
        "    rows = []\n",
        "    for (idx, s), p in zip(students_df.iterrows(), probs):\n",
        "        rows.append({\n",
        "            \"StudentID\": s[\"StudentID\"],\n",
        "            \"Major\": s[\"Major\"],\n",
        "            \"Interests\": s[\"Interests\"],\n",
        "            \"EventTitle\": event_title,\n",
        "            \"EventDate\": event_date,\n",
        "            \"Probability\": float(round(p, 4)),\n",
        "            \"Notification\": f\" New Event: {event_title} on {event_date}\"\n",
        "        })\n",
        "\n",
        "    df = pd.DataFrame(rows).sort_values(\"Probability\", ascending=False)\n",
        "    df_thr = df[df[\"Probability\"] >= threshold]\n",
        "\n",
        "    if df_thr.empty and return_top_k_if_empty:\n",
        "        return df.head(min(top_k, len(df))).reset_index(drop=True)\n",
        "    return df_thr.head(min(top_k, len(df_thr))).reset_index(drop=True)\n"
      ],
      "metadata": {
        "id": "v9Sof_O7zixB"
      },
      "execution_count": 18,
      "outputs": []
    },
    {
      "cell_type": "code",
      "source": [
        "# User input demo on BEST model\n",
        "\n",
        "def safe_input(prompt: str, default: str = \"\") -> str:\n",
        "    try:\n",
        "        s = input(prompt).strip()\n",
        "        return s or default\n",
        "    except Exception:\n",
        "        return default\n",
        "\n",
        "print(\"\\nDemo on BEST model (user input)\")\n",
        "user_title = safe_input(\"Enter event title (default: 'Healthcare Data Analytics Workshop'): \",\n",
        "                        \"Healthcare Data Analytics Workshop\")\n",
        "user_date = safe_input(\"Enter event date YYYY-MM-DD (default: 2025-06-15): \", \"2025-06-15\")\n",
        "\n",
        "notifications = notify_students_about_event(\n",
        "    user_title, user_date, students, best_model, best_thr, top_k=200, return_top_k_if_empty=True\n",
        ")\n",
        "print(\"\\n Notifications (Top 10):\")\n",
        "print(notifications.head(10))\n",
        "print(f\"Total notified: {len(notifications)}\")"
      ],
      "metadata": {
        "colab": {
          "base_uri": "https://localhost:8080/"
        },
        "id": "b9Q-aJjgztOX",
        "outputId": "4f037fd4-5219-42a0-fa4a-1c2698ca097b"
      },
      "execution_count": 22,
      "outputs": [
        {
          "output_type": "stream",
          "name": "stdout",
          "text": [
            "\n",
            " Demo on BEST model (user input)\n",
            "Enter event title (default: 'Healthcare Data Analytics Workshop'): Ai\n",
            "Enter event date YYYY-MM-DD (default: 2025-06-15): \n",
            "\n",
            " Notifications (Top 10):\n",
            "  StudentID             Major  \\\n",
            "0      S157  Computer Science   \n",
            "1      S586  Computer Science   \n",
            "2      S566  Computer Science   \n",
            "3      S263  Computer Science   \n",
            "4      S448  Computer Science   \n",
            "5      S174  Computer Science   \n",
            "6      S481  Computer Science   \n",
            "7      S334       Engineering   \n",
            "8      S406  Computer Science   \n",
            "9      S114  Computer Science   \n",
            "\n",
            "                                           Interests EventTitle   EventDate  \\\n",
            "0                           [python, algorithms, ai]         Ai  2025-06-15   \n",
            "1  [algorithms, machine learning, artificial inte...         Ai  2025-06-15   \n",
            "2                           [algorithms, ai, python]         Ai  2025-06-15   \n",
            "3                          [programming, python, ai]         Ai  2025-06-15   \n",
            "4                         [algorithms, ai, computer]         Ai  2025-06-15   \n",
            "5          [ai, algorithms, artificial intelligence]         Ai  2025-06-15   \n",
            "6  [artificial intelligence, software, python, me...         Ai  2025-06-15   \n",
            "7  [design, mechanical engineering, renewable ene...         Ai  2025-06-15   \n",
            "8      [artificial intelligence, python, algorithms]         Ai  2025-06-15   \n",
            "9                               [algorithms, python]         Ai  2025-06-15   \n",
            "\n",
            "   Probability                  Notification  \n",
            "0       0.9786   New Event: Ai on 2025-06-15  \n",
            "1       0.9662   New Event: Ai on 2025-06-15  \n",
            "2       0.9648   New Event: Ai on 2025-06-15  \n",
            "3       0.9400   New Event: Ai on 2025-06-15  \n",
            "4       0.9334   New Event: Ai on 2025-06-15  \n",
            "5       0.9330   New Event: Ai on 2025-06-15  \n",
            "6       0.9299   New Event: Ai on 2025-06-15  \n",
            "7       0.9291   New Event: Ai on 2025-06-15  \n",
            "8       0.9257   New Event: Ai on 2025-06-15  \n",
            "9       0.9062   New Event: Ai on 2025-06-15  \n",
            "Total notified: 65\n"
          ]
        }
      ]
    }
  ]
}